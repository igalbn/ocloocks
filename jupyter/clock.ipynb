{
 "cells": [
  {
   "cell_type": "code",
   "execution_count": 13,
   "metadata": {},
   "outputs": [
    {
     "data": {
      "text/html": [
       "<style>\n",
       "#app-clock{\n",
       "    background-color: aqua;\n",
       "    width: 5vw;\n",
       "    text-align: center;\n",
       "}\n",
       "</style>\n",
       "<div id=\"app-clock\">\n",
       "    <time id=\"app-clock-time\">**:**:**</time>\n",
       "</div>\n"
      ],
      "text/plain": [
       "<IPython.core.display.HTML object>"
      ]
     },
     "metadata": {},
     "output_type": "display_data"
    }
   ],
   "source": [
    "%%HTML\n",
    "<style>\n",
    "#app-clock{\n",
    "    background-color: aqua;\n",
    "    width: 5vw;\n",
    "    text-align: center;\n",
    "}\n",
    "</style>\n",
    "<div id=\"app-clock\">\n",
    "    <time id=\"app-clock-time\">**:**:**</time>\n",
    "</div>"
   ]
  },
  {
   "cell_type": "code",
   "execution_count": 16,
   "metadata": {},
   "outputs": [
    {
     "data": {
      "application/javascript": "const NUM_ZERO = 0;\nlet clockContainer = document.getElementById('app-clock-time');\nlet now = new Date();\nclockContainer.innerText = `${now.getHours().toString().padStart(2,NUM_ZERO)}:${now.getMinutes()\n    .toString().padStart(2,NUM_ZERO)}:${now.getSeconds().toString().padStart(2,NUM_ZERO)}`;\n",
      "text/plain": [
       "<IPython.core.display.Javascript object>"
      ]
     },
     "metadata": {},
     "output_type": "display_data"
    }
   ],
   "source": [
    "%%js\n",
    "const NUM_ZERO = 0;\n",
    "let clockContainer = document.getElementById('app-clock-time');\n",
    "let now = new Date();\n",
    "clockContainer.innerText = `${now.getHours().toString().padStart(2,NUM_ZERO)}:${now.getMinutes()\n",
    "    .toString().padStart(2,NUM_ZERO)}:${now.getSeconds().toString().padStart(2,NUM_ZERO)}`;"
   ]
  }
 ],
 "metadata": {
  "kernelspec": {
   "display_name": "Python 3",
   "language": "python",
   "name": "python3"
  },
  "language_info": {
   "codemirror_mode": {
    "name": "ipython",
    "version": 3
   },
   "file_extension": ".py",
   "mimetype": "text/x-python",
   "name": "python",
   "nbconvert_exporter": "python",
   "pygments_lexer": "ipython3",
   "version": "3.10.12"
  }
 },
 "nbformat": 4,
 "nbformat_minor": 2
}
